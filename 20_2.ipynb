{
 "cells": [
  {
   "cell_type": "code",
   "execution_count": null,
   "id": "47b86e04-f783-44ec-89db-1fa8b7050f00",
   "metadata": {},
   "outputs": [],
   "source": []
  },
  {
   "cell_type": "code",
   "execution_count": 8,
   "id": "021bd351-fceb-40d8-bba3-45673aa49879",
   "metadata": {},
   "outputs": [],
   "source": [
    "import io, os, sys\n",
    "from sys import stdin, stdout\n",
    " \n",
    "# input = io.BytesIO(os.read(0,os.fstat(0).st_size)).readline\n",
    "# def input(): return stdin.readline().strip()\n",
    "# def read_int_list(): return list(map(int, input().split()))\n",
    "# def read_int_tuple(): return tuple(map(int, input().split()))\n",
    "# def read_int(): return int(input())\n",
    " \n",
    "from itertools import permutations, chain, combinations, product\n",
    "from math import factorial, gcd\n",
    "from collections import Counter, defaultdict, deque\n",
    "from heapq import heappush, heappop, heapify\n",
    "from bisect import bisect_left, bisect_right\n",
    "from functools import lru_cache\n",
    "\n",
    "import sys\n",
    "sys.setrecursionlimit(10000)\n",
    "\n",
    "\n",
    "with open('inputs/input_20.txt', 'r') as f:\n",
    "    lines = [line.strip() for line in f.readlines()]\n",
    "    res = 0\n",
    "    ff_state = {}\n",
    "    con_state = {}\n",
    "    output_dict = defaultdict(list)\n",
    "    out_dict = {}\n",
    "    circuit_to_type = {}\n",
    "    out_change_frequency = defaultdict(list)\n",
    "    prev_state = {}\n",
    "    \n",
    "    for line in lines:\n",
    "        circuit, out = [item.strip() for item in line.split('->')]\n",
    "        out_ls = out.split(', ')\n",
    "        t = circuit[0]\n",
    "        if circuit[0] == 'b':\n",
    "            circuit_to_type[circuit] = 'b'\n",
    "        else:\n",
    "            circuit = circuit[1:]\n",
    "        if t == '%':\n",
    "            ff_state[circuit] = 0\n",
    "            circuit_to_type[circuit] = 'ff'\n",
    "        elif t=='&':\n",
    "            con_state[circuit] = None\n",
    "            circuit_to_type[circuit] = 'con'\n",
    "        for output in out_ls:\n",
    "            output_dict[output].append(circuit)\n",
    "        out_dict[circuit] = out_ls\n",
    "        if circuit_to_type[circuit] == 'ff':\n",
    "            prev_state[circuit] = 0\n",
    "        else:\n",
    "            prev_state[circuit] = 1\n",
    "        \n",
    "    for circuit in con_state:\n",
    "        con_state[circuit] = {}\n",
    "        for inp in output_dict[circuit]:\n",
    "            con_state[circuit][inp] = 0\n",
    "\n",
    "    res_low = 0\n",
    "    res_high = 0\n",
    "    impt_nodes = set([\n",
    "        'vb', 'tf', 'tx', 'sc', 'cc', 'rj', 'vh',\n",
    "        'tn', 'hc', 'zn', 'gf', 'lt', 'qf', 'ls', 'fv', \n",
    "        'hj', 'hr', 'pp', 'nc', 'lk', 'rk', 'rv', 'bp',\n",
    "        'rb', 'mf', 'xv', 'jz', 'br', 'kh', 'lj'\n",
    "        ])\n",
    "    \n",
    "        \n",
    "    def simulate(i):\n",
    "        num_low = 0\n",
    "        num_high = 0\n",
    "        stack = [('broadcaster', 0, None)] # circuit and signal received\n",
    "        check_rx = False\n",
    "        state = {}\n",
    "        while len(stack) > 0:\n",
    "            new_stack = []\n",
    "            for item in stack:\n",
    "                c, s, f = item\n",
    "                # if c == 'rx' and s == 0:\n",
    "                #     print('here')\n",
    "                #     check_rx = True\n",
    "                #     break\n",
    "                # if c == 'jq':\n",
    "                #     print(i, con_state[c])\n",
    "                if s == 0:\n",
    "                    num_low += 1\n",
    "                else:\n",
    "                    num_high += 1\n",
    "                if f not in state:\n",
    "                    state[f] = s\n",
    "                else:\n",
    "                    state[f] = s\n",
    "                    # assert state[f] == s, f\n",
    "                if c not in circuit_to_type:\n",
    "                    continue\n",
    "                elif circuit_to_type[c] == 'b':\n",
    "                    for out_c in out_dict[c]:\n",
    "                        new_stack.append([out_c, s, c])\n",
    "                elif circuit_to_type[c] == 'ff':\n",
    "                    if s == 0:\n",
    "                        if ff_state[c] == 0:\n",
    "                            ff_state[c] = 1\n",
    "                        else:\n",
    "                            ff_state[c] = 0\n",
    "                        for out_c in out_dict[c]:\n",
    "                            new_stack.append([out_c, ff_state[c], c])\n",
    "                    # do nothiing\n",
    "                else:\n",
    "                    con_state[c][f] = s\n",
    "                    if all([con_state[c][inp]==1 for inp in con_state[c]]):\n",
    "                        out_s = 0\n",
    "                    else:\n",
    "                        out_s = 1\n",
    "                    for out_c in out_dict[c]:\n",
    "                        new_stack.append([out_c, out_s, c])\n",
    "            stack = new_stack\n",
    "        return num_low, num_high, state\n",
    "    \n",
    "    for i in range(1, 1000000):\n",
    "        num_low, num_high, state = simulate(i)\n",
    "        for key in state:\n",
    "            if key is not None and state[key] != prev_state[key]:\n",
    "                prev_state[key] = state[key]\n",
    "                if len(out_change_frequency[key]) > 0:\n",
    "                    prev_i = out_change_frequency[key][-1][0]\n",
    "                    out_change_frequency[key].append((i, prev_state[key], i- prev_i))\n",
    "                else:\n",
    "                    out_change_frequency[key].append((i, prev_state[key], i))\n",
    "        res_low += num_low\n",
    "        res_high += num_high\n",
    "        \n",
    "    cycle_dict = []\n",
    "    final = {}\n",
    "    for key in out_change_frequency:\n",
    "        if key == 'broadcaster':\n",
    "            continue\n",
    "        ls = out_change_frequency[key]\n",
    "        if len(ls) < 4:\n",
    "            continue\n",
    "        final[key] = out_change_frequency[key]\n",
    "        cycle_len = ls[-1][0] - ls[-3][0]"
   ]
  },
  {
   "cell_type": "code",
   "execution_count": null,
   "id": "64d05e76-7279-4cd5-b5a0-5635ff9858a6",
   "metadata": {},
   "outputs": [],
   "source": []
  },
  {
   "cell_type": "code",
   "execution_count": 19,
   "id": "8ae03df0-9372-4f89-9b76-627d737d9558",
   "metadata": {},
   "outputs": [
    {
     "data": {
      "text/plain": [
       "0"
      ]
     },
     "execution_count": 19,
     "metadata": {},
     "output_type": "execute_result"
    }
   ],
   "source": [
    "929866 % 3907"
   ]
  },
  {
   "cell_type": "code",
   "execution_count": 10,
   "id": "92942a6b-72d4-4f2f-a1ac-2d995ec6f056",
   "metadata": {},
   "outputs": [
    {
     "data": {
      "text/plain": [
       "3907"
      ]
     },
     "execution_count": 10,
     "metadata": {},
     "output_type": "execute_result"
    }
   ],
   "source": [
    "#ck\n",
    "929866-925959"
   ]
  },
  {
   "cell_type": "code",
   "execution_count": 20,
   "id": "495cd23e-c4b5-412f-bea7-d5571b19945e",
   "metadata": {},
   "outputs": [
    {
     "data": {
      "text/plain": [
       "0"
      ]
     },
     "execution_count": 20,
     "metadata": {},
     "output_type": "execute_result"
    }
   ],
   "source": [
    "929471 % 3889"
   ]
  },
  {
   "cell_type": "code",
   "execution_count": 12,
   "id": "3d9e3209-f062-436c-823e-40e772093ba6",
   "metadata": {},
   "outputs": [
    {
     "data": {
      "text/plain": [
       "3889"
      ]
     },
     "execution_count": 12,
     "metadata": {},
     "output_type": "execute_result"
    }
   ],
   "source": [
    "#ns\n",
    "929471 - 925582"
   ]
  },
  {
   "cell_type": "code",
   "execution_count": 21,
   "id": "9c5a44d6-5de0-4ffe-a8d1-fc82966d5b3e",
   "metadata": {},
   "outputs": [
    {
     "data": {
      "text/plain": [
       "0"
      ]
     },
     "execution_count": 21,
     "metadata": {},
     "output_type": "execute_result"
    }
   ],
   "source": [
    "938640 % 3911"
   ]
  },
  {
   "cell_type": "code",
   "execution_count": 15,
   "id": "544db01b-2a5f-4985-8b6b-25d11aec6661",
   "metadata": {},
   "outputs": [
    {
     "data": {
      "text/plain": [
       "3911"
      ]
     },
     "execution_count": 15,
     "metadata": {},
     "output_type": "execute_result"
    }
   ],
   "source": [
    "#hh\n",
    "938640 - 934729"
   ]
  },
  {
   "cell_type": "code",
   "execution_count": 22,
   "id": "71f31fad-a59d-4dde-91c1-f5e2e8f346fe",
   "metadata": {},
   "outputs": [
    {
     "data": {
      "text/plain": [
       "0"
      ]
     },
     "execution_count": 22,
     "metadata": {},
     "output_type": "execute_result"
    }
   ],
   "source": [
    "944708 % 4003"
   ]
  },
  {
   "cell_type": "code",
   "execution_count": 16,
   "id": "aca58405-ee62-489b-a617-6b05e6818dc9",
   "metadata": {},
   "outputs": [
    {
     "data": {
      "text/plain": [
       "4003"
      ]
     },
     "execution_count": 16,
     "metadata": {},
     "output_type": "execute_result"
    }
   ],
   "source": [
    "#kz\n",
    "944708 - 940705"
   ]
  },
  {
   "cell_type": "code",
   "execution_count": 18,
   "id": "d61c9b4a-060c-43af-acf1-dafaf56c530a",
   "metadata": {},
   "outputs": [
    {
     "data": {
      "text/plain": [
       "237878264003759"
      ]
     },
     "execution_count": 18,
     "metadata": {},
     "output_type": "execute_result"
    }
   ],
   "source": [
    "import math\n",
    "math.lcm(3907,3889,3911,4003)"
   ]
  },
  {
   "cell_type": "code",
   "execution_count": null,
   "id": "d1ac7a99-41ed-441c-a237-d4016cfb59ef",
   "metadata": {},
   "outputs": [],
   "source": []
  },
  {
   "cell_type": "code",
   "execution_count": null,
   "id": "cbb9b525-ae22-43d2-af9a-7169d13b2fc9",
   "metadata": {},
   "outputs": [],
   "source": []
  },
  {
   "cell_type": "code",
   "execution_count": null,
   "id": "0dee219a-e8c2-4b1b-94f6-2cb5946531a0",
   "metadata": {},
   "outputs": [],
   "source": []
  },
  {
   "cell_type": "code",
   "execution_count": null,
   "id": "33be1050-cea7-43f7-8540-b1e1086b80bb",
   "metadata": {},
   "outputs": [],
   "source": []
  },
  {
   "cell_type": "code",
   "execution_count": 9,
   "id": "031a5485-62ac-4f04-9276-c1b4ce9f0c1f",
   "metadata": {},
   "outputs": [
    {
     "name": "stdout",
     "output_type": "stream",
     "text": [
      "vb [(2048, 1, 2048), (3907, 0, 1859), (5955, 1, 2048), (7814, 0, 1859), (9862, 1, 2048), (11721, 0, 1859), (13769, 1, 2048), (15628, 0, 1859), (17676, 1, 2048), (19535, 0, 1859)]\n",
      "\n",
      "tf [(1, 1, 1), (2, 0, 1), (3, 1, 1), (4, 0, 1), (5, 1, 1), (6, 0, 1), (7, 1, 1), (8, 0, 1), (9, 1, 1), (10, 0, 1)]\n",
      "\n",
      "tx [(2, 1, 2), (4, 0, 2), (6, 1, 2), (8, 0, 2), (10, 1, 2), (12, 0, 2), (14, 1, 2), (16, 0, 2), (18, 1, 2), (20, 0, 2)]\n",
      "\n",
      "sc [(1024, 1, 1024), (2048, 0, 1024), (3072, 1, 1024), (3907, 0, 835), (4931, 1, 1024), (5955, 0, 1024), (6979, 1, 1024), (7814, 0, 835), (8838, 1, 1024), (9862, 0, 1024)]\n",
      "\n",
      "cc [(256, 1, 256), (512, 0, 256), (768, 1, 256), (1024, 0, 256), (1280, 1, 256), (1536, 0, 256), (1792, 1, 256), (2048, 0, 256), (2304, 1, 256), (2560, 0, 256)]\n",
      "\n",
      "rj [(512, 1, 512), (1024, 0, 512), (1536, 1, 512), (2048, 0, 512), (2560, 1, 512), (3072, 0, 512), (3584, 1, 512), (3907, 0, 323), (4419, 1, 512), (4931, 0, 512)]\n",
      "\n",
      "vh [(64, 1, 64), (128, 0, 64), (192, 1, 64), (256, 0, 64), (320, 1, 64), (384, 0, 64), (448, 1, 64), (512, 0, 64), (576, 1, 64), (640, 0, 64)]\n",
      "\n",
      "tn [(256, 1, 256), (512, 0, 256), (768, 1, 256), (1024, 0, 256), (1280, 1, 256), (1536, 0, 256), (1792, 1, 256), (2048, 0, 256), (2304, 1, 256), (2560, 0, 256)]\n",
      "\n",
      "hc [(2048, 1, 2048), (4003, 0, 1955), (6051, 1, 2048), (8006, 0, 1955), (10054, 1, 2048), (12009, 0, 1955), (14057, 1, 2048), (16012, 0, 1955), (18060, 1, 2048), (20015, 0, 1955)]\n",
      "\n",
      "zn [(1, 1, 1), (2, 0, 1), (3, 1, 1), (4, 0, 1), (5, 1, 1), (6, 0, 1), (7, 1, 1), (8, 0, 1), (9, 1, 1), (10, 0, 1)]\n",
      "\n",
      "gf [(32, 1, 32), (64, 0, 32), (96, 1, 32), (128, 0, 32), (160, 1, 32), (192, 0, 32), (224, 1, 32), (256, 0, 32), (288, 1, 32), (320, 0, 32)]\n",
      "\n",
      "lt [(512, 1, 512), (1024, 0, 512), (1536, 1, 512), (2048, 0, 512), (2560, 1, 512), (3072, 0, 512), (3584, 1, 512), (4003, 0, 419), (4515, 1, 512), (5027, 0, 512)]\n",
      "\n",
      "qf [(128, 1, 128), (256, 0, 128), (384, 1, 128), (512, 0, 128), (640, 1, 128), (768, 0, 128), (896, 1, 128), (1024, 0, 128), (1152, 1, 128), (1280, 0, 128)]\n",
      "\n",
      "ls [(1024, 1, 1024), (2048, 0, 1024), (3072, 1, 1024), (4003, 0, 931), (5027, 1, 1024), (6051, 0, 1024), (7075, 1, 1024), (8006, 0, 931), (9030, 1, 1024), (10054, 0, 1024)]\n",
      "\n",
      "fv [(2, 1, 2), (4, 0, 2), (6, 1, 2), (8, 0, 2), (10, 1, 2), (12, 0, 2), (14, 1, 2), (16, 0, 2), (18, 1, 2), (20, 0, 2)]\n",
      "\n",
      "hj [(2, 1, 2), (4, 0, 2), (6, 1, 2), (8, 0, 2), (10, 1, 2), (12, 0, 2), (14, 1, 2), (16, 0, 2), (18, 1, 2), (20, 0, 2)]\n",
      "\n",
      "hr [(2048, 1, 2048), (3911, 0, 1863), (5959, 1, 2048), (7822, 0, 1863), (9870, 1, 2048), (11733, 0, 1863), (13781, 1, 2048), (15644, 0, 1863), (17692, 1, 2048), (19555, 0, 1863)]\n",
      "\n",
      "pp [(64, 1, 64), (128, 0, 64), (192, 1, 64), (256, 0, 64), (320, 1, 64), (384, 0, 64), (448, 1, 64), (512, 0, 64), (576, 1, 64), (640, 0, 64)]\n",
      "\n",
      "nc [(1, 1, 1), (2, 0, 1), (3, 1, 1), (4, 0, 1), (5, 1, 1), (6, 0, 1), (7, 1, 1), (8, 0, 1), (9, 1, 1), (10, 0, 1)]\n",
      "\n",
      "lk [(4, 1, 4), (8, 0, 4), (12, 1, 4), (16, 0, 4), (20, 1, 4), (24, 0, 4), (28, 1, 4), (32, 0, 4), (36, 1, 4), (40, 0, 4)]\n",
      "\n",
      "rk [(1024, 1, 1024), (2048, 0, 1024), (3072, 1, 1024), (3911, 0, 839), (4935, 1, 1024), (5959, 0, 1024), (6983, 1, 1024), (7822, 0, 839), (8846, 1, 1024), (9870, 0, 1024)]\n",
      "\n",
      "rv [(512, 1, 512), (1024, 0, 512), (1536, 1, 512), (2048, 0, 512), (2560, 1, 512), (3072, 0, 512), (3584, 1, 512), (3911, 0, 327), (4423, 1, 512), (4935, 0, 512)]\n",
      "\n",
      "bp [(256, 1, 256), (512, 0, 256), (768, 1, 256), (1024, 0, 256), (1280, 1, 256), (1536, 0, 256), (1792, 1, 256), (2048, 0, 256), (2304, 1, 256), (2560, 0, 256)]\n",
      "\n",
      "rb [(16, 1, 16), (32, 0, 16), (48, 1, 16), (64, 0, 16), (80, 1, 16), (96, 0, 16), (112, 1, 16), (128, 0, 16), (144, 1, 16), (160, 0, 16)]\n",
      "\n",
      "mf [(32, 1, 32), (64, 0, 32), (96, 1, 32), (128, 0, 32), (160, 1, 32), (192, 0, 32), (224, 1, 32), (256, 0, 32), (288, 1, 32), (320, 0, 32)]\n",
      "\n",
      "xv [(256, 1, 256), (512, 0, 256), (768, 1, 256), (1024, 0, 256), (1280, 1, 256), (1536, 0, 256), (1792, 1, 256), (2048, 0, 256), (2304, 1, 256), (2560, 0, 256)]\n",
      "\n",
      "jz [(1024, 1, 1024), (2048, 0, 1024), (3072, 1, 1024), (3889, 0, 817), (4913, 1, 1024), (5937, 0, 1024), (6961, 1, 1024), (7778, 0, 817), (8802, 1, 1024), (9826, 0, 1024)]\n",
      "\n",
      "br [(1, 1, 1), (2, 0, 1), (3, 1, 1), (4, 0, 1), (5, 1, 1), (6, 0, 1), (7, 1, 1), (8, 0, 1), (9, 1, 1), (10, 0, 1)]\n",
      "\n",
      "kh [(512, 1, 512), (1024, 0, 512), (1536, 1, 512), (2048, 0, 512), (2560, 1, 512), (3072, 0, 512), (3584, 1, 512), (3889, 0, 305), (4401, 1, 512), (4913, 0, 512)]\n",
      "\n",
      "lj [(2048, 1, 2048), (3889, 0, 1841), (5937, 1, 2048), (7778, 0, 1841), (9826, 1, 2048), (11667, 0, 1841), (13715, 1, 2048), (15556, 0, 1841), (17604, 1, 2048), (19445, 0, 1841)]\n",
      "\n"
     ]
    }
   ],
   "source": [
    "impt_nodes = [\n",
    "    'vb', 'tf', 'tx', 'sc', 'cc', 'rj', 'vh',\n",
    "    'tn', 'hc', 'zn', 'gf', 'lt', 'qf', 'ls', 'fv', \n",
    "    'hj', 'hr', 'pp', 'nc', 'lk', 'rk', 'rv', 'bp',\n",
    "    'rb', 'mf', 'xv', 'jz', 'br', 'kh', 'lj'\n",
    "    ]\n",
    "node_dict = {\n",
    "    'ck': ['vb', 'tf', 'tx', 'sc', 'cc', 'rj', 'vh'],\n",
    "    'kz': ['tn', 'hc', 'zn', 'gf', 'lt', 'qf', 'ls', 'fv'],\n",
    "    'hh': ['hj', 'hr', 'pp', 'nc', 'lk', 'rk', 'rv', 'bp'],\n",
    "    'ns': ['rb', 'mf', 'xv', 'jz', 'br', 'kh', 'lj']    \n",
    "}\n",
    "for node in impt_nodes:\n",
    "    print(node, final[node][:10])\n",
    "    print()"
   ]
  },
  {
   "cell_type": "code",
   "execution_count": null,
   "id": "e3e313e3-3cd7-49e3-b7cd-a176c9a6c622",
   "metadata": {},
   "outputs": [],
   "source": []
  },
  {
   "cell_type": "code",
   "execution_count": null,
   "id": "2b56d4ce-50b6-4f13-ad0b-1548ffbcaec9",
   "metadata": {},
   "outputs": [],
   "source": []
  },
  {
   "cell_type": "code",
   "execution_count": 2,
   "id": "bccd26d3-64d1-4eaa-a9e5-56be1886240d",
   "metadata": {},
   "outputs": [
    {
     "data": {
      "text/plain": [
       "dict_keys(['tf', 'br', 'zn', 'nc', 'tx', 'gv', 'fv', 'hj', 'mr', 'jl', 'nh', 'lk', 'rg', 'fp', 'vx', 'zd', 'tp', 'rb', 'df', 'fm', 'pc', 'mf', 'gf', 'kq', 'vh', 'gp', 'zf', 'pp', 'tg', 'pb', 'qf', 'vs', 'cc', 'xv', 'tn', 'bp', 'rj', 'kh', 'lt', 'rv', 'sc', 'jz', 'ls', 'rk', 'vb', 'lj', 'hc', 'hr'])"
      ]
     },
     "execution_count": 2,
     "metadata": {},
     "output_type": "execute_result"
    }
   ],
   "source": [
    "final.keys()"
   ]
  }
 ],
 "metadata": {
  "kernelspec": {
   "display_name": "Python 3 (ipykernel)",
   "language": "python",
   "name": "python3"
  },
  "language_info": {
   "codemirror_mode": {
    "name": "ipython",
    "version": 3
   },
   "file_extension": ".py",
   "mimetype": "text/x-python",
   "name": "python",
   "nbconvert_exporter": "python",
   "pygments_lexer": "ipython3",
   "version": "3.11.3"
  }
 },
 "nbformat": 4,
 "nbformat_minor": 5
}
